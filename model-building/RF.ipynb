{
 "cells": [
  {
   "cell_type": "code",
   "execution_count": null,
   "metadata": {},
   "outputs": [],
   "source": [
    "import pandas as pd\n",
    "import os\n",
    "\n",
    "# Load the dataset\n",
    "file_path = 'D:\\\\1 code AI'\n",
    "file_names = ['new_data_v1.csv']\n",
    "datasets = [pd.read_csv(os.path.join(file_path, file)) for file in file_names]\n",
    "dataset = pd.concat(datasets, ignore_index=True)\n",
    "\n",
    "# Count the number of labels 0 and 1\n",
    "label_counts = dataset['Label'].value_counts()\n",
    "print(\"Label counts:\")\n",
    "print(label_counts)\n",
    "\n",
    "dataset.info()\n"
   ]
  },
  {
   "cell_type": "code",
   "execution_count": null,
   "metadata": {},
   "outputs": [],
   "source": [
    "from sklearn.model_selection import train_test_split\n",
    "\n",
    "# Check if columns exist before dropping\n",
    "columns_drop = [\"Label\", \"Label\", \"year\", \"month\", \"day\", \"hour\"]\n",
    "existing_columns_to_drop = [col for col in columns_drop if col in dataset.columns]\n",
    "\n",
    "X = dataset.drop(columns=existing_columns_to_drop)\n",
    "y = dataset[\"Label\"]\n",
    "\n",
    "print(X.head())\n",
    "print(X.info())\n",
    "print(y.head())\n",
    "print(y.value_counts())"
   ]
  },
  {
   "cell_type": "code",
   "execution_count": null,
   "metadata": {},
   "outputs": [],
   "source": [
    "# Split the data into train (80%) and test (20%)\n",
    "X_train, X_test, y_train, y_test = train_test_split(X, y, test_size=0.2, random_state=42, stratify=y)\n",
    "\n",
    "print(f\"Training set size: {len(X_train)}\")\n",
    "print(f\"Test set size: {len(X_test)}\")\n",
    "\n",
    "print(\"Training set label distribution:\")\n",
    "print(y_train.value_counts())\n",
    "print(\"Test set label distribution:\")\n",
    "print(y_test.value_counts())\n"
   ]
  },
  {
   "cell_type": "code",
   "execution_count": null,
   "metadata": {},
   "outputs": [],
   "source": [
    "import numpy as np\n",
    "from sklearn.model_selection import RepeatedStratifiedKFold, RandomizedSearchCV, StratifiedKFold\n",
    "from sklearn.model_selection import RandomizedSearchCV\n",
    "from sklearn.ensemble import RandomForestClassifier\n",
    "\n",
    "# Define the parameter grid for Randomized Search\n",
    "param_dist = {\n",
    "    'n_estimators': np.arange(50, 601, 10),\n",
    "    'max_depth': [None, 10, 50, 100],\n",
    "    'min_samples_split': np.arange(2, 21),\n",
    "    'min_samples_leaf': np.arange(1, 21),\n",
    "    'max_features': ['sqrt', 'log2', None],\n",
    "    'class_weight': ['balanced', 'balanced_subsample']\n",
    "}\n",
    "\n",
    "# Define the model\n",
    "rf = RandomForestClassifier(random_state=42)\n",
    "\n",
    "\n",
    "# Define the Repeated Stratified K-Fold cross-validator\n",
    "skf = StratifiedKFold(n_splits=5, shuffle=True, random_state=42)\n",
    "\n",
    "# Perform Randomized Search with Repeated Stratified K-Fold cross-validation\n",
    "rf_random = RandomizedSearchCV(estimator=rf, param_distributions=param_dist, \n",
    "                               n_iter=100, cv=skf, verbose=10, random_state=42, \n",
    "                               n_jobs=-1, scoring='f1')\n",
    "\n",
    "# Fit the Randomized Search model on the training set\n",
    "rf_random.fit(X_train, y_train)\n",
    "\n",
    "print(\"Best Parameters from Randomized Search:\", rf_random.best_params_)\n",
    "# Print the score of the best parameters on the test set\n",
    "best_score = rf_random.score(X_test, y_test)\n",
    "print(\"Best score on test set:\", best_score)\n",
    "# Get the best model based on validation performance\n",
    "best_rf = rf_random.best_estimator_\n"
   ]
  },
  {
   "cell_type": "code",
   "execution_count": null,
   "metadata": {},
   "outputs": [],
   "source": [
    "from sklearn.metrics import classification_report\n",
    "\n",
    "y_pred = best_rf.predict(X_test)\n",
    "\n",
    "report = classification_report(y_test, y_pred)\n",
    "print(report)"
   ]
  }
 ],
 "metadata": {
  "kernelspec": {
   "display_name": "AI",
   "language": "python",
   "name": "python3"
  },
  "language_info": {
   "codemirror_mode": {
    "name": "ipython",
    "version": 3
   },
   "file_extension": ".py",
   "mimetype": "text/x-python",
   "name": "python",
   "nbconvert_exporter": "python",
   "pygments_lexer": "ipython3",
   "version": "3.9.20"
  }
 },
 "nbformat": 4,
 "nbformat_minor": 2
}
